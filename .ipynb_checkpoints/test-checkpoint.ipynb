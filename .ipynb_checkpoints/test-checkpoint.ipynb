{
 "cells": [
  {
   "cell_type": "code",
   "execution_count": 30,
   "metadata": {
    "scrolled": true
   },
   "outputs": [
    {
     "name": "stderr",
     "output_type": "stream",
     "text": [
      "Namespace(input_file='data/mocap-thkim-3d/94_04_skeleton_3d.csv', output_file='data/tmp/rel-motion_04.csv', reverse=False)\n",
      "Namespace(input_file='data/tmp/rel-motion_04.csv', output_file='data/tmp/rev-motion_04.csv', reverse=True)\n",
      "max square error: 1.00000002337e-12\n"
     ]
    }
   ],
   "source": [
    "%%bash -e\n",
    "rm -fr data/tmp\n",
    "python csv_motion_to_jrel2.py data/mocap-thkim-3d/94_04_skeleton_3d.csv data/tmp/rel-motion_04.csv\n",
    "python csv_motion_to_jrel2.py -r data/tmp/rel-motion_04.csv data/tmp/rev-motion_04.csv\n",
    "python csv_compare.py data/mocap-thkim-3d/94_04_skeleton_3d.csv data/tmp/rev-motion_04.csv"
   ]
  },
  {
   "cell_type": "code",
   "execution_count": 26,
   "metadata": {},
   "outputs": [
    {
     "name": "stdout",
     "output_type": "stream",
     "text": [
      "Help on method add_argument in module argparse:\n",
      "\n",
      "add_argument(self, *args, **kwargs) method of argparse.ArgumentParser instance\n",
      "    add_argument(dest, ..., name=value, ...)\n",
      "    add_argument(option_string, option_string, ..., name=value, ...)\n",
      "\n"
     ]
    }
   ],
   "source": [
    "import argparse\n",
    "parser = argparse.ArgumentParser()\n",
    "help(parser.add_argument)"
   ]
  },
  {
   "cell_type": "code",
   "execution_count": 35,
   "metadata": {},
   "outputs": [
    {
     "name": "stderr",
     "output_type": "stream",
     "text": [
      "Namespace(input_file='data/mocap-thkim-3d/94_04_skeleton_3d.csv', output_file='data/tmp/rel-motion_04.csv', reverse=False)\n",
      "python: can't open file 'cum_stats.py': [Errno 2] No such file or directory\n"
     ]
    }
   ],
   "source": [
    "%%bash -e\n",
    "rm -fr data/tmp\n",
    "python csv_motion_to_jrel2.py data/mocap-thkim-3d/94_04_skeleton_3d.csv data/tmp/rel-motion_04.csv\n",
    "python csv_stats.py \\\n",
    "        data/mocap-thkim-3d/94_04_skeleton_3d.csv \\\n",
    "        --mean_file data/input/mean.txt \\\n",
    "        --std_file  data/input/std.txt\n",
    "python csv_normalize.py \\\n",
    "        --mean_file data/input/mean.txt \\\n",
    "        --std_file  data/input/std.txt \\\n",
    "        data/tmp/rel-motion_04.csv \\\n",
    "        data/tmp/norm-rel-motion_04.csv\n",
    "python csv_normalize.py \\\n",
    "        -r \\\n",
    "        --mean_file data/input/mean.txt \\\n",
    "        --std_file  data/input/std.txt \\\n",
    "        data/tmp/norm-rel-motion_04.csv \\\n",
    "        data/tmp/rev-rel-motion_04.csv\n",
    "python csv_motion_to_jrel2.py -r data/tmp/rev-rel-motion_04.csv data/tmp/rev-motion_04.csv\n",
    "python csv_compare.py data/mocap-thkim-3d/94_04_skeleton_3d.csv data/tmp/rev-motion_04.csv"
   ]
  },
  {
   "cell_type": "code",
   "execution_count": 17,
   "metadata": {},
   "outputs": [
    {
     "name": "stdout",
     "output_type": "stream",
     "text": [
      "file: data/mocap-thkim-3d/94_04_skeleton_3d.csv\n",
      "=================================\n",
      "count: 716\n",
      "=================================\n",
      "mean:\n",
      "count     48.000000\n",
      "mean     216.429309\n",
      "std      269.976289\n",
      "min      -70.086995\n",
      "25%       29.294923\n",
      "50%       60.722483\n",
      "75%      521.500218\n",
      "max      741.012391\n",
      "dtype: float64\n",
      "=================================\n",
      "std:\n",
      "count     48.000000\n",
      "mean      80.158941\n",
      "std       53.728308\n",
      "min        8.450175\n",
      "25%       25.367661\n",
      "50%       75.558321\n",
      "75%      141.929340\n",
      "max      165.634351\n",
      "dtype: float64\n",
      "=================================\n"
     ]
    }
   ],
   "source": [
    "!python cum_stats.py data/mocap-thkim-3d/94_04_skeleton_3d.csv --mean_file data/tmp/mean.txt --std_file data/tmp/std.txt"
   ]
  },
  {
   "cell_type": "code",
   "execution_count": 18,
   "metadata": {
    "collapsed": true
   },
   "outputs": [],
   "source": [
    "%pycat data/tmp/mean.txt"
   ]
  },
  {
   "cell_type": "code",
   "execution_count": 19,
   "metadata": {
    "collapsed": true
   },
   "outputs": [],
   "source": [
    "%pycat data/tmp/std.txt"
   ]
  }
 ],
 "metadata": {
  "kernelspec": {
   "display_name": "Python 2",
   "language": "python",
   "name": "python2"
  },
  "language_info": {
   "codemirror_mode": {
    "name": "ipython",
    "version": 2
   },
   "file_extension": ".py",
   "mimetype": "text/x-python",
   "name": "python",
   "nbconvert_exporter": "python",
   "pygments_lexer": "ipython2",
   "version": "2.7.13"
  }
 },
 "nbformat": 4,
 "nbformat_minor": 2
}
